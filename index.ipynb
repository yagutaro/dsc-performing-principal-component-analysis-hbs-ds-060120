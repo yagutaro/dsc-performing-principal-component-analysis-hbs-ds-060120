{
 "cells": [
  {
   "cell_type": "markdown",
   "metadata": {},
   "source": [
    "# Performing Principal Component Analysis (PCA)\n",
    "\n",
    "## Introduction\n",
    "\n",
    "In this lesson, we'll write the PCA algorithm from the ground up using NumPy. This should provide you with a deeper understanding of the algorithm and help you practice your linear algebra skills.\n",
    "\n",
    "## Objectives\n",
    "\n",
    "You will be able to:\n",
    "\n",
    "- List the steps required to perform PCA on a given dataset \n",
    "- Decompose and reconstruct a matrix using eigendecomposition \n",
    "- Perform a covariance matrix calculation with NumPy \n"
   ]
  },
  {
   "cell_type": "markdown",
   "metadata": {},
   "source": [
    "## Step 1: Get some data\n",
    "\n",
    "To start, generate some data for PCA!"
   ]
  },
  {
   "cell_type": "code",
   "execution_count": 1,
   "metadata": {},
   "outputs": [
    {
     "data": {
      "image/png": "[encoded data removed]",
      "text/plain": [
       "<Figure size 432x288 with 1 Axes>"
      ]
     },
     "metadata": {
      "needs_background": "light"
     },
     "output_type": "display_data"
    }
   ],
   "source": [
    "import numpy as np\n",
    "import matplotlib.pyplot as plt\n",
    "%matplotlib inline\n",
    "np.random.seed(42)\n",
    "\n",
    "x1 = np.random.uniform(low=0, high=10, size=100)\n",
    "x2 = [(xi*3)+np.random.normal(scale=2) for xi in x1]\n",
    "plt.scatter(x1, x2);"
   ]
  },
  {
   "cell_type": "markdown",
   "metadata": {},
   "source": [
    "## Step 2: Subtract the mean\n",
    "\n",
    "Next, you have to subtract the mean from each dimension of the data. "
   ]
  },
  {
   "cell_type": "code",
   "execution_count": 3,
   "metadata": {},
   "outputs": [
    {
     "data": {
      "text/html": [
       "<div>\n",
       "<style scoped>\n",
       "    .dataframe tbody tr th:only-of-type {\n",
       "        vertical-align: middle;\n",
       "    }\n",
       "\n",
       "    .dataframe tbody tr th {\n",
       "        vertical-align: top;\n",
       "    }\n",
       "\n",
       "    .dataframe thead th {\n",
       "        text-align: right;\n",
       "    }\n",
       "</style>\n",
       "<table border=\"1\" class=\"dataframe\">\n",
       "  <thead>\n",
       "    <tr style=\"text-align: right;\">\n",
       "      <th></th>\n",
       "      <th>0</th>\n",
       "      <th>1</th>\n",
       "      <th>2</th>\n",
       "      <th>3</th>\n",
       "      <th>4</th>\n",
       "      <th>5</th>\n",
       "      <th>6</th>\n",
       "      <th>7</th>\n",
       "      <th>8</th>\n",
       "      <th>9</th>\n",
       "      <th>...</th>\n",
       "      <th>90</th>\n",
       "      <th>91</th>\n",
       "      <th>92</th>\n",
       "      <th>93</th>\n",
       "      <th>94</th>\n",
       "      <th>95</th>\n",
       "      <th>96</th>\n",
       "      <th>97</th>\n",
       "      <th>98</th>\n",
       "      <th>99</th>\n",
       "    </tr>\n",
       "  </thead>\n",
       "  <tbody>\n",
       "    <tr>\n",
       "      <td>0</td>\n",
       "      <td>3.745401</td>\n",
       "      <td>9.507143</td>\n",
       "      <td>7.319939</td>\n",
       "      <td>5.986585</td>\n",
       "      <td>1.560186</td>\n",
       "      <td>1.559945</td>\n",
       "      <td>0.580836</td>\n",
       "      <td>8.661761</td>\n",
       "      <td>6.011150</td>\n",
       "      <td>7.080726</td>\n",
       "      <td>...</td>\n",
       "      <td>1.195942</td>\n",
       "      <td>7.132448</td>\n",
       "      <td>7.607850</td>\n",
       "      <td>5.612772</td>\n",
       "      <td>7.709672</td>\n",
       "      <td>4.937956</td>\n",
       "      <td>5.227328</td>\n",
       "      <td>4.275410</td>\n",
       "      <td>0.254191</td>\n",
       "      <td>1.078914</td>\n",
       "    </tr>\n",
       "    <tr>\n",
       "      <td>1</td>\n",
       "      <td>11.410298</td>\n",
       "      <td>27.923414</td>\n",
       "      <td>22.143340</td>\n",
       "      <td>13.984617</td>\n",
       "      <td>4.241215</td>\n",
       "      <td>5.394061</td>\n",
       "      <td>4.698296</td>\n",
       "      <td>24.948744</td>\n",
       "      <td>16.416463</td>\n",
       "      <td>20.238663</td>\n",
       "      <td>...</td>\n",
       "      <td>5.231948</td>\n",
       "      <td>25.190930</td>\n",
       "      <td>22.332775</td>\n",
       "      <td>15.330844</td>\n",
       "      <td>21.349987</td>\n",
       "      <td>13.182247</td>\n",
       "      <td>15.527781</td>\n",
       "      <td>13.508535</td>\n",
       "      <td>1.315955</td>\n",
       "      <td>4.891109</td>\n",
       "    </tr>\n",
       "  </tbody>\n",
       "</table>\n",
       "<p>2 rows × 100 columns</p>\n",
       "</div>"
      ],
      "text/plain": [
       "          0          1          2          3         4         5         6   \\\n",
       "0   3.745401   9.507143   7.319939   5.986585  1.560186  1.559945  0.580836   \n",
       "1  11.410298  27.923414  22.143340  13.984617  4.241215  5.394061  4.698296   \n",
       "\n",
       "          7          8          9   ...        90         91         92  \\\n",
       "0   8.661761   6.011150   7.080726  ...  1.195942   7.132448   7.607850   \n",
       "1  24.948744  16.416463  20.238663  ...  5.231948  25.190930  22.332775   \n",
       "\n",
       "          93         94         95         96         97        98        99  \n",
       "0   5.612772   7.709672   4.937956   5.227328   4.275410  0.254191  1.078914  \n",
       "1  15.330844  21.349987  13.182247  15.527781  13.508535  1.315955  4.891109  \n",
       "\n",
       "[2 rows x 100 columns]"
      ]
     },
     "execution_count": 3,
     "metadata": {},
     "output_type": "execute_result"
    }
   ],
   "source": [
    "import pandas as pd\n",
    "pd.DataFrame([x1,x2])"
   ]
  },
  {
   "cell_type": "code",
   "execution_count": 4,
   "metadata": {},
   "outputs": [
    {
     "data": {
      "text/html": [
       "<div>\n",
       "<style scoped>\n",
       "    .dataframe tbody tr th:only-of-type {\n",
       "        vertical-align: middle;\n",
       "    }\n",
       "\n",
       "    .dataframe tbody tr th {\n",
       "        vertical-align: top;\n",
       "    }\n",
       "\n",
       "    .dataframe thead th {\n",
       "        text-align: right;\n",
       "    }\n",
       "</style>\n",
       "<table border=\"1\" class=\"dataframe\">\n",
       "  <thead>\n",
       "    <tr style=\"text-align: right;\">\n",
       "      <th></th>\n",
       "      <th>x1</th>\n",
       "      <th>x2</th>\n",
       "    </tr>\n",
       "  </thead>\n",
       "  <tbody>\n",
       "    <tr>\n",
       "      <td>0</td>\n",
       "      <td>3.745401</td>\n",
       "      <td>11.410298</td>\n",
       "    </tr>\n",
       "    <tr>\n",
       "      <td>1</td>\n",
       "      <td>9.507143</td>\n",
       "      <td>27.923414</td>\n",
       "    </tr>\n",
       "    <tr>\n",
       "      <td>2</td>\n",
       "      <td>7.319939</td>\n",
       "      <td>22.143340</td>\n",
       "    </tr>\n",
       "    <tr>\n",
       "      <td>3</td>\n",
       "      <td>5.986585</td>\n",
       "      <td>13.984617</td>\n",
       "    </tr>\n",
       "    <tr>\n",
       "      <td>4</td>\n",
       "      <td>1.560186</td>\n",
       "      <td>4.241215</td>\n",
       "    </tr>\n",
       "  </tbody>\n",
       "</table>\n",
       "</div>"
      ],
      "text/plain": [
       "         x1         x2\n",
       "0  3.745401  11.410298\n",
       "1  9.507143  27.923414\n",
       "2  7.319939  22.143340\n",
       "3  5.986585  13.984617\n",
       "4  1.560186   4.241215"
      ]
     },
     "execution_count": 4,
     "metadata": {},
     "output_type": "execute_result"
    }
   ],
   "source": [
    "data = pd.DataFrame([x1,x2]).transpose()\n",
    "data.columns = ['x1', 'x2']\n",
    "data.head()"
   ]
  },
  {
   "cell_type": "code",
   "execution_count": 5,
   "metadata": {},
   "outputs": [
    {
     "data": {
      "text/plain": [
       "x1     4.701807\n",
       "x2    14.103262\n",
       "dtype: float64"
      ]
     },
     "execution_count": 5,
     "metadata": {},
     "output_type": "execute_result"
    }
   ],
   "source": [
    "data.mean()"
   ]
  },
  {
   "cell_type": "code",
   "execution_count": 6,
   "metadata": {},
   "outputs": [
    {
     "data": {
      "text/html": [
       "<div>\n",
       "<style scoped>\n",
       "    .dataframe tbody tr th:only-of-type {\n",
       "        vertical-align: middle;\n",
       "    }\n",
       "\n",
       "    .dataframe tbody tr th {\n",
       "        vertical-align: top;\n",
       "    }\n",
       "\n",
       "    .dataframe thead th {\n",
       "        text-align: right;\n",
       "    }\n",
       "</style>\n",
       "<table border=\"1\" class=\"dataframe\">\n",
       "  <thead>\n",
       "    <tr style=\"text-align: right;\">\n",
       "      <th></th>\n",
       "      <th>x1</th>\n",
       "      <th>x2</th>\n",
       "    </tr>\n",
       "  </thead>\n",
       "  <tbody>\n",
       "    <tr>\n",
       "      <td>0</td>\n",
       "      <td>-0.956406</td>\n",
       "      <td>-2.692964</td>\n",
       "    </tr>\n",
       "    <tr>\n",
       "      <td>1</td>\n",
       "      <td>4.805336</td>\n",
       "      <td>13.820153</td>\n",
       "    </tr>\n",
       "    <tr>\n",
       "      <td>2</td>\n",
       "      <td>2.618132</td>\n",
       "      <td>8.040078</td>\n",
       "    </tr>\n",
       "    <tr>\n",
       "      <td>3</td>\n",
       "      <td>1.284777</td>\n",
       "      <td>-0.118645</td>\n",
       "    </tr>\n",
       "    <tr>\n",
       "      <td>4</td>\n",
       "      <td>-3.141621</td>\n",
       "      <td>-9.862046</td>\n",
       "    </tr>\n",
       "  </tbody>\n",
       "</table>\n",
       "</div>"
      ],
      "text/plain": [
       "         x1         x2\n",
       "0 -0.956406  -2.692964\n",
       "1  4.805336  13.820153\n",
       "2  2.618132   8.040078\n",
       "3  1.284777  -0.118645\n",
       "4 -3.141621  -9.862046"
      ]
     },
     "execution_count": 6,
     "metadata": {},
     "output_type": "execute_result"
    }
   ],
   "source": [
    "mean_centered = data - data.mean()\n",
    "mean_centered.head()"
   ]
  },
  {
   "cell_type": "markdown",
   "metadata": {},
   "source": [
    "## Step 3: Calculate the covariance matrix\n",
    "\n",
    "Now that you have normalized your data, you can calculate the covariance matrix."
   ]
  },
  {
   "cell_type": "code",
   "execution_count": 7,
   "metadata": {},
   "outputs": [
    {
     "data": {
      "text/plain": [
       "array([[ 8.84999497, 25.73618675],\n",
       "       [25.73618675, 78.10092586]])"
      ]
     },
     "execution_count": 7,
     "metadata": {},
     "output_type": "execute_result"
    }
   ],
   "source": [
    "cov = np.cov([mean_centered['x1'], mean_centered['x2']])\n",
    "cov"
   ]
  },
  {
   "cell_type": "markdown",
   "metadata": {},
   "source": [
    "## Step 4: Calculate the eigenvectors and eigenvalues of the covariance matrix\n",
    "\n",
    "It's time to compute the associated eigenvectors. These will form the new axes when it's time to reproject the dataset on the new basis."
   ]
  },
  {
   "cell_type": "code",
   "execution_count": 9,
   "metadata": {},
   "outputs": [
    {
     "data": {
      "text/plain": [
       "array([[-0.94936397, -0.31417837],\n",
       "       [ 0.31417837, -0.94936397]])"
      ]
     },
     "execution_count": 9,
     "metadata": {},
     "output_type": "execute_result"
    }
   ],
   "source": [
    "eigen_value, eigen_vector = np.linalg.eig(cov)\n",
    "eigen_vector"
   ]
  },
  {
   "cell_type": "code",
   "execution_count": 10,
   "metadata": {},
   "outputs": [
    {
     "data": {
      "text/plain": [
       "array([ 0.33297363, 86.61794719])"
      ]
     },
     "execution_count": 10,
     "metadata": {},
     "output_type": "execute_result"
    }
   ],
   "source": [
    "eigen_value"
   ]
  },
  {
   "cell_type": "markdown",
   "metadata": {},
   "source": [
    "## Step 5: Choosing components and forming a feature vector\n",
    "\n",
    "If you look at the eigenvectors and eigenvalues above, you can see that the eigenvalues have very different values. In fact, it turns out that **the eigenvector with the highest eigenvalue is the principal component of the dataset.**\n",
    "\n",
    "In general, once eigenvectors are found from the covariance matrix, the next step is to order them by eigenvalue in descending order. This gives us the components in order of significance. Typically, PCA will be used to reduce the dimensionality of the dataset and as such, some of these eigenvectors will be subsequently discarded. In general, the smaller the eigenvalue relative to others, the less information encoded within said feature.\n",
    "\n",
    "Finally, you need to form a __feature vector__, which is just a fancy name for a matrix of vectors. This is constructed by taking the eigenvectors that you want to keep from the list of eigenvectors, and forming a matrix with these eigenvectors in the columns as shown below:"
   ]
  },
  {
   "cell_type": "code",
   "execution_count": 11,
   "metadata": {},
   "outputs": [
    {
     "data": {
      "text/plain": [
       "array([[-0.31417837, -0.94936397],\n",
       "       [-0.94936397,  0.31417837]])"
      ]
     },
     "execution_count": 11,
     "metadata": {},
     "output_type": "execute_result"
    }
   ],
   "source": [
    "# Get the index values of the sorted eigenvalues\n",
    "e_indices = np.argsort(eigen_value)[::-1] \n",
    "\n",
    "# Sort\n",
    "eigenvectors_sorted = eigen_vector[:, e_indices]\n",
    "eigenvectors_sorted"
   ]
  },
  {
   "cell_type": "markdown",
   "metadata": {},
   "source": [
    "## Step 5: Deriving the new dataset"
   ]
  },
  {
   "cell_type": "markdown",
   "metadata": {},
   "source": [
    "This the final step in PCA, and is also the easiest. Once you have chosen the components (eigenvectors) that you wish to keep in our data and formed a feature vector, you simply take the transpose of the vector and multiply it on the left of the original dataset, transposed."
   ]
  },
  {
   "cell_type": "code",
   "execution_count": 9,
   "metadata": {},
   "outputs": [
    {
     "data": {
      "text/plain": [
       "array([[  2.85708504,   0.06190663],\n",
       "       [-14.63008778,  -0.2200194 ],\n",
       "       [ -8.45552104,   0.04045849],\n",
       "       [ -0.29101209,  -1.25699704],\n",
       "       [ 10.34970068,  -0.11589976]])"
      ]
     },
     "execution_count": 9,
     "metadata": {},
     "output_type": "execute_result"
    }
   ],
   "source": [
    "transformed = eigenvectors_sorted.dot(mean_centered.T).T\n",
    "transformed[:5]"
   ]
  },
  {
   "cell_type": "markdown",
   "metadata": {},
   "source": [
    "## Summary \n",
    "\n",
    "That's it! We just implemented PCA on our own using NumPy! In the next lab, you'll continue to practice this on your own!"
   ]
  }
 ],
 "metadata": {
  "kernelspec": {
   "display_name": "Python 3",
   "language": "python",
   "name": "python3"
  },
  "language_info": {
   "codemirror_mode": {
    "name": "ipython",
    "version": 3
   },
   "file_extension": ".py",
   "mimetype": "text/x-python",
   "name": "python",
   "nbconvert_exporter": "python",
   "pygments_lexer": "ipython3",
   "version": "3.6.9"
  }
 },
 "nbformat": 4,
 "nbformat_minor": 2
}
